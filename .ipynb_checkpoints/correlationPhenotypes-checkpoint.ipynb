{
 "cells": [
  {
   "cell_type": "code",
   "execution_count": 23,
   "id": "b2073146",
   "metadata": {},
   "outputs": [],
   "source": [
    "import pandas as pd\n",
    "import matplotlib.pyplot as plt\n",
    "import numpy as np\n",
    "import seaborn as sns\n"
   ]
  },
  {
   "cell_type": "code",
   "execution_count": 2,
   "id": "92faf285",
   "metadata": {},
   "outputs": [],
   "source": [
    "data=pd.read_table(\"outputFiles/binaryglarek6_PCs.tsv\")"
   ]
  },
  {
   "cell_type": "code",
   "execution_count": 10,
   "id": "0a581b8a",
   "metadata": {},
   "outputs": [
    {
     "data": {
      "text/html": [
       "<div>\n",
       "<style scoped>\n",
       "    .dataframe tbody tr th:only-of-type {\n",
       "        vertical-align: middle;\n",
       "    }\n",
       "\n",
       "    .dataframe tbody tr th {\n",
       "        vertical-align: top;\n",
       "    }\n",
       "\n",
       "    .dataframe thead th {\n",
       "        text-align: right;\n",
       "    }\n",
       "</style>\n",
       "<table border=\"1\" class=\"dataframe\">\n",
       "  <thead>\n",
       "    <tr style=\"text-align: right;\">\n",
       "      <th></th>\n",
       "      <th>pop</th>\n",
       "      <th>bam</th>\n",
       "      <th>mom</th>\n",
       "      <th>dad</th>\n",
       "      <th>sex</th>\n",
       "      <th>class1</th>\n",
       "      <th>B1</th>\n",
       "      <th>S1U</th>\n",
       "      <th>S1V</th>\n",
       "      <th>S1B</th>\n",
       "      <th>S1G</th>\n",
       "      <th>S1Y</th>\n",
       "      <th>S1R</th>\n",
       "      <th>blackproportion</th>\n",
       "      <th>vgg16_k6</th>\n",
       "      <th>PC1</th>\n",
       "      <th>PC2</th>\n",
       "      <th>sexgwas</th>\n",
       "    </tr>\n",
       "  </thead>\n",
       "  <tbody>\n",
       "    <tr>\n",
       "      <th>0</th>\n",
       "      <td>SK</td>\n",
       "      <td>AG01_S94.r.bam</td>\n",
       "      <td>0</td>\n",
       "      <td>0</td>\n",
       "      <td>2</td>\n",
       "      <td>-9</td>\n",
       "      <td>1048.452</td>\n",
       "      <td>0.166</td>\n",
       "      <td>0.2</td>\n",
       "      <td>0.283</td>\n",
       "      <td>0.257</td>\n",
       "      <td>0.21</td>\n",
       "      <td>0.302</td>\n",
       "      <td>-9.0</td>\n",
       "      <td>-9.0</td>\n",
       "      <td>-9.0</td>\n",
       "      <td>-9.0</td>\n",
       "      <td>2</td>\n",
       "    </tr>\n",
       "    <tr>\n",
       "      <th>1</th>\n",
       "      <td>SK</td>\n",
       "      <td>AG02_S231.r.bam</td>\n",
       "      <td>0</td>\n",
       "      <td>0</td>\n",
       "      <td>2</td>\n",
       "      <td>-9</td>\n",
       "      <td>1048.452</td>\n",
       "      <td>0.166</td>\n",
       "      <td>0.2</td>\n",
       "      <td>0.283</td>\n",
       "      <td>0.257</td>\n",
       "      <td>0.21</td>\n",
       "      <td>0.302</td>\n",
       "      <td>-9.0</td>\n",
       "      <td>-9.0</td>\n",
       "      <td>-9.0</td>\n",
       "      <td>-9.0</td>\n",
       "      <td>2</td>\n",
       "    </tr>\n",
       "    <tr>\n",
       "      <th>2</th>\n",
       "      <td>SK</td>\n",
       "      <td>AG03_S230.r.bam</td>\n",
       "      <td>0</td>\n",
       "      <td>0</td>\n",
       "      <td>2</td>\n",
       "      <td>-9</td>\n",
       "      <td>1048.452</td>\n",
       "      <td>0.166</td>\n",
       "      <td>0.2</td>\n",
       "      <td>0.283</td>\n",
       "      <td>0.257</td>\n",
       "      <td>0.21</td>\n",
       "      <td>0.302</td>\n",
       "      <td>-9.0</td>\n",
       "      <td>-9.0</td>\n",
       "      <td>-9.0</td>\n",
       "      <td>-9.0</td>\n",
       "      <td>2</td>\n",
       "    </tr>\n",
       "    <tr>\n",
       "      <th>3</th>\n",
       "      <td>SK</td>\n",
       "      <td>AG04_S188.r.bam</td>\n",
       "      <td>0</td>\n",
       "      <td>0</td>\n",
       "      <td>1</td>\n",
       "      <td>-9</td>\n",
       "      <td>1048.452</td>\n",
       "      <td>0.166</td>\n",
       "      <td>0.2</td>\n",
       "      <td>0.283</td>\n",
       "      <td>0.257</td>\n",
       "      <td>0.21</td>\n",
       "      <td>0.302</td>\n",
       "      <td>-9.0</td>\n",
       "      <td>-9.0</td>\n",
       "      <td>-9.0</td>\n",
       "      <td>-9.0</td>\n",
       "      <td>1</td>\n",
       "    </tr>\n",
       "    <tr>\n",
       "      <th>4</th>\n",
       "      <td>SK</td>\n",
       "      <td>AG05_S241.r.bam</td>\n",
       "      <td>0</td>\n",
       "      <td>0</td>\n",
       "      <td>2</td>\n",
       "      <td>-9</td>\n",
       "      <td>1048.452</td>\n",
       "      <td>0.166</td>\n",
       "      <td>0.2</td>\n",
       "      <td>0.283</td>\n",
       "      <td>0.257</td>\n",
       "      <td>0.21</td>\n",
       "      <td>0.302</td>\n",
       "      <td>-9.0</td>\n",
       "      <td>-9.0</td>\n",
       "      <td>-9.0</td>\n",
       "      <td>-9.0</td>\n",
       "      <td>2</td>\n",
       "    </tr>\n",
       "  </tbody>\n",
       "</table>\n",
       "</div>"
      ],
      "text/plain": [
       "  pop              bam  mom  dad  sex  class1        B1    S1U  S1V    S1B  \\\n",
       "0  SK   AG01_S94.r.bam    0    0    2      -9  1048.452  0.166  0.2  0.283   \n",
       "1  SK  AG02_S231.r.bam    0    0    2      -9  1048.452  0.166  0.2  0.283   \n",
       "2  SK  AG03_S230.r.bam    0    0    2      -9  1048.452  0.166  0.2  0.283   \n",
       "3  SK  AG04_S188.r.bam    0    0    1      -9  1048.452  0.166  0.2  0.283   \n",
       "4  SK  AG05_S241.r.bam    0    0    2      -9  1048.452  0.166  0.2  0.283   \n",
       "\n",
       "     S1G   S1Y    S1R  blackproportion  vgg16_k6  PC1  PC2  sexgwas  \n",
       "0  0.257  0.21  0.302             -9.0      -9.0 -9.0 -9.0        2  \n",
       "1  0.257  0.21  0.302             -9.0      -9.0 -9.0 -9.0        2  \n",
       "2  0.257  0.21  0.302             -9.0      -9.0 -9.0 -9.0        2  \n",
       "3  0.257  0.21  0.302             -9.0      -9.0 -9.0 -9.0        1  \n",
       "4  0.257  0.21  0.302             -9.0      -9.0 -9.0 -9.0        2  "
      ]
     },
     "execution_count": 10,
     "metadata": {},
     "output_type": "execute_result"
    }
   ],
   "source": [
    "data.head()"
   ]
  },
  {
   "cell_type": "code",
   "execution_count": 15,
   "id": "3d2459a3",
   "metadata": {},
   "outputs": [],
   "source": [
    "data.replace(-9,np.nan,inplace=True)"
   ]
  },
  {
   "cell_type": "code",
   "execution_count": 26,
   "id": "bb757f6d",
   "metadata": {},
   "outputs": [
    {
     "data": {
      "text/plain": [
       "pop                347\n",
       "bam                347\n",
       "mom                347\n",
       "dad                347\n",
       "sex                347\n",
       "class1             199\n",
       "B1                 347\n",
       "S1U                347\n",
       "S1V                347\n",
       "S1B                347\n",
       "S1G                347\n",
       "S1Y                347\n",
       "S1R                347\n",
       "blackproportion    192\n",
       "vgg16_k6           189\n",
       "PC1                189\n",
       "PC2                189\n",
       "sexgwas            335\n",
       "dtype: int64"
      ]
     },
     "execution_count": 26,
     "metadata": {},
     "output_type": "execute_result"
    }
   ],
   "source": [
    "data.count()"
   ]
  },
  {
   "cell_type": "code",
   "execution_count": 29,
   "id": "5afae470",
   "metadata": {},
   "outputs": [
    {
     "data": {
      "text/html": [
       "<div>\n",
       "<style scoped>\n",
       "    .dataframe tbody tr th:only-of-type {\n",
       "        vertical-align: middle;\n",
       "    }\n",
       "\n",
       "    .dataframe tbody tr th {\n",
       "        vertical-align: top;\n",
       "    }\n",
       "\n",
       "    .dataframe thead th {\n",
       "        text-align: right;\n",
       "    }\n",
       "</style>\n",
       "<table border=\"1\" class=\"dataframe\">\n",
       "  <thead>\n",
       "    <tr style=\"text-align: right;\">\n",
       "      <th></th>\n",
       "      <th>S1B</th>\n",
       "      <th>S1G</th>\n",
       "      <th>S1R</th>\n",
       "      <th>blackproportion</th>\n",
       "      <th>PC1</th>\n",
       "      <th>PC2</th>\n",
       "    </tr>\n",
       "  </thead>\n",
       "  <tbody>\n",
       "    <tr>\n",
       "      <th>S1B</th>\n",
       "      <td>1.000000</td>\n",
       "      <td>0.008172</td>\n",
       "      <td>-0.812992</td>\n",
       "      <td>0.825878</td>\n",
       "      <td>0.448747</td>\n",
       "      <td>0.644543</td>\n",
       "    </tr>\n",
       "    <tr>\n",
       "      <th>S1G</th>\n",
       "      <td>0.008172</td>\n",
       "      <td>1.000000</td>\n",
       "      <td>-0.577372</td>\n",
       "      <td>0.372101</td>\n",
       "      <td>-0.169090</td>\n",
       "      <td>0.590335</td>\n",
       "    </tr>\n",
       "    <tr>\n",
       "      <th>S1R</th>\n",
       "      <td>-0.812992</td>\n",
       "      <td>-0.577372</td>\n",
       "      <td>1.000000</td>\n",
       "      <td>-0.520197</td>\n",
       "      <td>0.038040</td>\n",
       "      <td>-0.673980</td>\n",
       "    </tr>\n",
       "    <tr>\n",
       "      <th>blackproportion</th>\n",
       "      <td>0.825878</td>\n",
       "      <td>0.372101</td>\n",
       "      <td>-0.520197</td>\n",
       "      <td>1.000000</td>\n",
       "      <td>0.604716</td>\n",
       "      <td>0.680857</td>\n",
       "    </tr>\n",
       "    <tr>\n",
       "      <th>PC1</th>\n",
       "      <td>0.448747</td>\n",
       "      <td>-0.169090</td>\n",
       "      <td>0.038040</td>\n",
       "      <td>0.604716</td>\n",
       "      <td>1.000000</td>\n",
       "      <td>0.002734</td>\n",
       "    </tr>\n",
       "    <tr>\n",
       "      <th>PC2</th>\n",
       "      <td>0.644543</td>\n",
       "      <td>0.590335</td>\n",
       "      <td>-0.673980</td>\n",
       "      <td>0.680857</td>\n",
       "      <td>0.002734</td>\n",
       "      <td>1.000000</td>\n",
       "    </tr>\n",
       "  </tbody>\n",
       "</table>\n",
       "</div>"
      ],
      "text/plain": [
       "                      S1B       S1G       S1R  blackproportion       PC1  \\\n",
       "S1B              1.000000  0.008172 -0.812992         0.825878  0.448747   \n",
       "S1G              0.008172  1.000000 -0.577372         0.372101 -0.169090   \n",
       "S1R             -0.812992 -0.577372  1.000000        -0.520197  0.038040   \n",
       "blackproportion  0.825878  0.372101 -0.520197         1.000000  0.604716   \n",
       "PC1              0.448747 -0.169090  0.038040         0.604716  1.000000   \n",
       "PC2              0.644543  0.590335 -0.673980         0.680857  0.002734   \n",
       "\n",
       "                      PC2  \n",
       "S1B              0.644543  \n",
       "S1G              0.590335  \n",
       "S1R             -0.673980  \n",
       "blackproportion  0.680857  \n",
       "PC1              0.002734  \n",
       "PC2              1.000000  "
      ]
     },
     "execution_count": 29,
     "metadata": {},
     "output_type": "execute_result"
    }
   ],
   "source": [
    "corr=data[[\"B1\",\"S1B\",\"S1G\",\"S1Y\",\"S1R\",\"blackproportion\",\"PC1\",\"PC2\"]].corr()\n",
    "corr=data[[\"S1B\",\"S1G\",\"S1R\",\"blackproportion\",\"PC1\",\"PC2\"]].corr()\n",
    "corr"
   ]
  },
  {
   "cell_type": "code",
   "execution_count": 30,
   "id": "10a3dbd3",
   "metadata": {},
   "outputs": [
    {
     "data": {
      "text/plain": [
       "<AxesSubplot:>"
      ]
     },
     "execution_count": 30,
     "metadata": {},
     "output_type": "execute_result"
    },
    {
     "data": {
      "image/png": "[encoded data removed]",
      "text/plain": [
       "<Figure size 432x288 with 2 Axes>"
      ]
     },
     "metadata": {
      "needs_background": "light"
     },
     "output_type": "display_data"
    }
   ],
   "source": [
    "sns.heatmap(abs(corr), \n",
    "        xticklabels=corr.columns,\n",
    "        yticklabels=corr.columns)"
   ]
  },
  {
   "cell_type": "code",
   "execution_count": 47,
   "id": "66c684f5",
   "metadata": {},
   "outputs": [],
   "source": [
    "plt.rcParams['font.family'] = \"Avenir\""
   ]
  },
  {
   "cell_type": "code",
   "execution_count": 49,
   "id": "5d607cd6",
   "metadata": {},
   "outputs": [
    {
     "data": {
      "image/png": "[encoded data removed]",
      "text/plain": [
       "<Figure size 684x576 with 2 Axes>"
      ]
     },
     "metadata": {
      "needs_background": "light"
     },
     "output_type": "display_data"
    }
   ],
   "source": [
    "plt.figure(figsize=(9.5, 8))\n",
    "plt.rcParams['font.size'] = '20'\n",
    "sns.heatmap(abs(corr), \n",
    "        xticklabels=[\"blue\",\"green\",\"red\",\"BP\",\"PC1\",\"PC2\"],\n",
    "        yticklabels=[\"blue\",\"green\",\"red\",\"BP\",\"PC1\",\"PC2\"])\n",
    "plt.savefig(\"outputFiles/CorrHeatmap.png\")"
   ]
  }
 ],
 "metadata": {
  "kernelspec": {
   "display_name": "Python 3 (ipykernel)",
   "language": "python",
   "name": "python3"
  },
  "language_info": {
   "codemirror_mode": {
    "name": "ipython",
    "version": 3
   },
   "file_extension": ".py",
   "mimetype": "text/x-python",
   "name": "python",
   "nbconvert_exporter": "python",
   "pygments_lexer": "ipython3",
   "version": "3.10.1"
  }
 },
 "nbformat": 4,
 "nbformat_minor": 5
}
