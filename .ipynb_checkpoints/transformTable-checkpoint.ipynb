{
 "cells": [
  {
   "cell_type": "code",
   "execution_count": 1,
   "id": "339d0b0b",
   "metadata": {},
   "outputs": [],
   "source": [
    "import pandas as pd\n",
    "import matplotlib.pyplot as plt\n",
    "import warnings\n",
    "from pandas.api.types import CategoricalDtype\n",
    "import numpy as np\n",
    "\n",
    "warnings.filterwarnings('ignore')"
   ]
  },
  {
   "cell_type": "code",
   "execution_count": 2,
   "id": "dedade0c",
   "metadata": {},
   "outputs": [],
   "source": [
    "'''\n",
    "TB_01_D_01_s1\n",
    "Population/morph ID (yes, it corresponds to the index in my diss)\n",
    "Individual ID (generally five per collecting site, more for polymorphic sites)\n",
    "D = Dorsal, V= Ventral\n",
    "01, 02, or 03 = measurement area (three on dorsal side, three on ventral side)\n",
    "s1 or s2 = replicate (no differences between measurement sets)\n",
    "'''\n",
    "\n",
    "spec=pd.read_csv(\"InputFiles/spec_data_lrf4Adam_Dorsal.csv\")"
   ]
  },
  {
   "cell_type": "code",
   "execution_count": 3,
   "id": "68866ffd",
   "metadata": {},
   "outputs": [],
   "source": [
    "#Mean by technical replicates\n",
    "spec[[\"sample\",\"replicate\"]]=spec[\"Sample_ID\"].str.rsplit(\"_\",1,expand=True)\n",
    "replicates=spec.groupby(\"sample\", as_index=False).mean()"
   ]
  },
  {
   "cell_type": "code",
   "execution_count": 4,
   "id": "81dfaead",
   "metadata": {},
   "outputs": [],
   "source": [
    "#Mean per individual\n",
    "replicates[[\"pop\",\"indv\",\"D\",\"measure\"]]=replicates[\"sample\"].str.rsplit(\"_\",3,expand=True)\n",
    "indiv=replicates.groupby([\"pop\",\"indv\"], as_index=False).mean()\n",
    "popmean=indiv.groupby([\"pop\"], as_index=False).mean()"
   ]
  },
  {
   "cell_type": "code",
   "execution_count": 5,
   "id": "d768038c",
   "metadata": {},
   "outputs": [
    {
     "data": {
      "text/html": [
       "<div>\n",
       "<style scoped>\n",
       "    .dataframe tbody tr th:only-of-type {\n",
       "        vertical-align: middle;\n",
       "    }\n",
       "\n",
       "    .dataframe tbody tr th {\n",
       "        vertical-align: top;\n",
       "    }\n",
       "\n",
       "    .dataframe thead th {\n",
       "        text-align: right;\n",
       "    }\n",
       "</style>\n",
       "<table border=\"1\" class=\"dataframe\">\n",
       "  <thead>\n",
       "    <tr style=\"text-align: right;\">\n",
       "      <th></th>\n",
       "      <th>sample</th>\n",
       "      <th>B1</th>\n",
       "      <th>S1U</th>\n",
       "      <th>S1V</th>\n",
       "      <th>S1B</th>\n",
       "      <th>S1G</th>\n",
       "      <th>S1Y</th>\n",
       "      <th>S1R</th>\n",
       "      <th>pop</th>\n",
       "      <th>indv</th>\n",
       "      <th>D</th>\n",
       "      <th>measure</th>\n",
       "    </tr>\n",
       "  </thead>\n",
       "  <tbody>\n",
       "    <tr>\n",
       "      <th>0</th>\n",
       "      <td>CA_02_D_01</td>\n",
       "      <td>750.573577</td>\n",
       "      <td>0.175690</td>\n",
       "      <td>0.189901</td>\n",
       "      <td>0.083387</td>\n",
       "      <td>0.444302</td>\n",
       "      <td>0.315113</td>\n",
       "      <td>0.304146</td>\n",
       "      <td>CA</td>\n",
       "      <td>02</td>\n",
       "      <td>D</td>\n",
       "      <td>01</td>\n",
       "    </tr>\n",
       "    <tr>\n",
       "      <th>1</th>\n",
       "      <td>CA_02_D_02</td>\n",
       "      <td>812.620062</td>\n",
       "      <td>0.177847</td>\n",
       "      <td>0.198455</td>\n",
       "      <td>0.129545</td>\n",
       "      <td>0.415143</td>\n",
       "      <td>0.287966</td>\n",
       "      <td>0.285624</td>\n",
       "      <td>CA</td>\n",
       "      <td>02</td>\n",
       "      <td>D</td>\n",
       "      <td>02</td>\n",
       "    </tr>\n",
       "    <tr>\n",
       "      <th>2</th>\n",
       "      <td>CA_02_D_03</td>\n",
       "      <td>1375.067154</td>\n",
       "      <td>0.184356</td>\n",
       "      <td>0.205476</td>\n",
       "      <td>0.156450</td>\n",
       "      <td>0.389302</td>\n",
       "      <td>0.284085</td>\n",
       "      <td>0.277686</td>\n",
       "      <td>CA</td>\n",
       "      <td>02</td>\n",
       "      <td>D</td>\n",
       "      <td>03</td>\n",
       "    </tr>\n",
       "    <tr>\n",
       "      <th>3</th>\n",
       "      <td>CA_03_D_01</td>\n",
       "      <td>1229.659241</td>\n",
       "      <td>0.130056</td>\n",
       "      <td>0.142567</td>\n",
       "      <td>0.097175</td>\n",
       "      <td>0.467030</td>\n",
       "      <td>0.330686</td>\n",
       "      <td>0.313927</td>\n",
       "      <td>CA</td>\n",
       "      <td>03</td>\n",
       "      <td>D</td>\n",
       "      <td>01</td>\n",
       "    </tr>\n",
       "    <tr>\n",
       "      <th>4</th>\n",
       "      <td>CA_03_D_02</td>\n",
       "      <td>1018.957371</td>\n",
       "      <td>0.142159</td>\n",
       "      <td>0.155983</td>\n",
       "      <td>0.103766</td>\n",
       "      <td>0.449651</td>\n",
       "      <td>0.315087</td>\n",
       "      <td>0.312647</td>\n",
       "      <td>CA</td>\n",
       "      <td>03</td>\n",
       "      <td>D</td>\n",
       "      <td>02</td>\n",
       "    </tr>\n",
       "  </tbody>\n",
       "</table>\n",
       "</div>"
      ],
      "text/plain": [
       "       sample           B1       S1U       S1V       S1B       S1G       S1Y  \\\n",
       "0  CA_02_D_01   750.573577  0.175690  0.189901  0.083387  0.444302  0.315113   \n",
       "1  CA_02_D_02   812.620062  0.177847  0.198455  0.129545  0.415143  0.287966   \n",
       "2  CA_02_D_03  1375.067154  0.184356  0.205476  0.156450  0.389302  0.284085   \n",
       "3  CA_03_D_01  1229.659241  0.130056  0.142567  0.097175  0.467030  0.330686   \n",
       "4  CA_03_D_02  1018.957371  0.142159  0.155983  0.103766  0.449651  0.315087   \n",
       "\n",
       "        S1R pop indv  D measure  \n",
       "0  0.304146  CA   02  D      01  \n",
       "1  0.285624  CA   02  D      02  \n",
       "2  0.277686  CA   02  D      03  \n",
       "3  0.313927  CA   03  D      01  \n",
       "4  0.312647  CA   03  D      02  "
      ]
     },
     "execution_count": 5,
     "metadata": {},
     "output_type": "execute_result"
    }
   ],
   "source": [
    "replicates.head()"
   ]
  },
  {
   "cell_type": "code",
   "execution_count": 6,
   "id": "9c019707",
   "metadata": {},
   "outputs": [
    {
     "data": {
      "image/png": "[encoded data removed]",
      "text/plain": [
       "<Figure size 432x288 with 1 Axes>"
      ]
     },
     "metadata": {
      "needs_background": "light"
     },
     "output_type": "display_data"
    }
   ],
   "source": [
    "'''\n",
    "S1V- violet\n",
    "S1B- blue\n",
    "S1G- green\n",
    "S1Y- yellow\n",
    "S1R- red\n",
    "B1- total brightness\n",
    "S1U- ultra violet excluded\n",
    "\n",
    "\n",
    "CA - Isla Cayo Agua\n",
    "CE, CY - Cementery\n",
    "CR - Costa Rica\n",
    "DB, DI, DR- Dolphin Bay\n",
    "FA - Mainland farm\n",
    "GL - La Gloria\n",
    "HO - Hospital Point, Solarte\n",
    "IC - Colón\n",
    "LL - La Loma\n",
    "LO - Loma Extrella\n",
    "NI - Isla Pastores\n",
    "NP - North Popa\n",
    "NR - Rana Azul\n",
    "OL - Old Point Bastimentos\n",
    "PA - Isla Loma Partida\n",
    "PM - Loma Partida, aguacate\n",
    "PU - Punta Laurel. Popa\n",
    "SC - San Cristobal\n",
    "SI - El silencio, mainland\n",
    "SS - Southeast Solarte\n",
    "TB - Tranquilo Bay\n",
    "'''\n",
    "indiv.boxplot(column=\"S1R\",by=\"pop\")\n",
    "plt.savefig(\"outputFiles/originalpops_red.pdf\")"
   ]
  },
  {
   "cell_type": "code",
   "execution_count": 7,
   "id": "f7282afc",
   "metadata": {},
   "outputs": [],
   "source": [
    "#Selected populations\n",
    "diana_pops=[\"AG\",\"RA\",\"CL\",\"CMR\",\"CMY\",\"DBB\",\"DBI\",\"DBR\",\"HP\",\"PP\",\"SC\",\"TB\"]\n",
    "layla_pops=[\"DR\",\"NR\",\"IC\",\"CE\" , \"CY\",\"DR\" ,\"DI\" ,\"DB\" ,\"HO\",\"PU\",\"SC\",\"TB\"]"
   ]
  },
  {
   "cell_type": "code",
   "execution_count": 8,
   "id": "6524576a",
   "metadata": {},
   "outputs": [],
   "source": [
    "poporder = CategoricalDtype(\n",
    "    [\"SC\",\"DBR\",\"DBI\",\"DBB\",\"AG\",\"RA\",\"PP\",\"CL\",\"CMY\",\"CMR\",\"HP\",\"TB\"], \n",
    "    ordered=True\n",
    ")"
   ]
  },
  {
   "cell_type": "code",
   "execution_count": 9,
   "id": "76976b37",
   "metadata": {},
   "outputs": [],
   "source": [
    "dic_popcode = dict(zip(layla_pops,diana_pops))\n",
    "indiv_pop2=indiv.replace({\"pop\": dic_popcode },inplace=False)\n",
    "toadd=indiv_pop2[indiv_pop2[\"pop\"]==\"DBB\"]\n",
    "toadd[\"pop\"]=\"AG\"\n",
    "indiv_pop2=indiv_pop2.append(toadd)\n",
    "indiv_pop2['pop'] = indiv_pop2['pop'].astype(poporder)"
   ]
  },
  {
   "cell_type": "code",
   "execution_count": 10,
   "id": "89010b2a",
   "metadata": {},
   "outputs": [
    {
     "data": {
      "image/png": "[encoded data removed]",
      "text/plain": [
       "<Figure size 720x720 with 4 Axes>"
      ]
     },
     "metadata": {
      "needs_background": "light"
     },
     "output_type": "display_data"
    }
   ],
   "source": [
    "#I am almost sure that the DB and DR are flipped\n",
    "mypops=indiv_pop2[indiv_pop2['pop'].isin(diana_pops)]\n",
    "\n",
    "fig, ax_new = plt.subplots(2,2,figsize=(10,10))\n",
    "bp=mypops.boxplot(column=[\"S1R\",\"S1Y\",\"S1G\",\"S1B\"],by=\"pop\",\n",
    "                  ax=ax_new, showmeans=True,\n",
    "                  return_type='dict',patch_artist = True,\n",
    "                  meanprops={\"marker\":\"o\",\"markerfacecolor\":\"white\", \"markeredgecolor\":\"black\"})\n",
    "\n",
    "[item.set_color('red') for item in bp[\"S1R\"]['boxes']]\n",
    "[item.set_color('blue') for item in bp[\"S1B\"]['boxes']]\n",
    "[item.set_color('green') for item in bp[\"S1G\"]['boxes']]\n",
    "[item.set_color('gold') for item in bp[\"S1Y\"]['boxes']]\n",
    "\n",
    "[[item.set_color('k') for item in bp[key]['whiskers']] for key in bp.keys()]\n",
    "[[item.set_color('k') for item in bp[key]['caps']] for key in bp.keys()]\n",
    "[[item.set_color('k') for item in bp[key]['medians']] for key in bp.keys()]\n",
    "\n",
    "\n",
    "fig.suptitle('')\n",
    "plt.savefig(\"./outputFiles/spec_perpop.pdf\")\n",
    "plt.show()"
   ]
  },
  {
   "cell_type": "code",
   "execution_count": 11,
   "id": "afa830b8",
   "metadata": {},
   "outputs": [
    {
     "data": {
      "text/html": [
       "<div>\n",
       "<style scoped>\n",
       "    .dataframe tbody tr th:only-of-type {\n",
       "        vertical-align: middle;\n",
       "    }\n",
       "\n",
       "    .dataframe tbody tr th {\n",
       "        vertical-align: top;\n",
       "    }\n",
       "\n",
       "    .dataframe thead th {\n",
       "        text-align: right;\n",
       "    }\n",
       "</style>\n",
       "<table border=\"1\" class=\"dataframe\">\n",
       "  <thead>\n",
       "    <tr style=\"text-align: right;\">\n",
       "      <th></th>\n",
       "      <th>pop</th>\n",
       "      <th>bam</th>\n",
       "      <th>mom</th>\n",
       "      <th>dad</th>\n",
       "      <th>sex</th>\n",
       "      <th>class1</th>\n",
       "    </tr>\n",
       "  </thead>\n",
       "  <tbody>\n",
       "    <tr>\n",
       "      <th>0</th>\n",
       "      <td>AG</td>\n",
       "      <td>AG01_S94.bam</td>\n",
       "      <td>0</td>\n",
       "      <td>0</td>\n",
       "      <td>2</td>\n",
       "      <td>0</td>\n",
       "    </tr>\n",
       "    <tr>\n",
       "      <th>1</th>\n",
       "      <td>AG</td>\n",
       "      <td>AG02_S231.bam</td>\n",
       "      <td>0</td>\n",
       "      <td>0</td>\n",
       "      <td>2</td>\n",
       "      <td>0</td>\n",
       "    </tr>\n",
       "    <tr>\n",
       "      <th>2</th>\n",
       "      <td>AG</td>\n",
       "      <td>AG03_S230.bam</td>\n",
       "      <td>0</td>\n",
       "      <td>0</td>\n",
       "      <td>2</td>\n",
       "      <td>0</td>\n",
       "    </tr>\n",
       "    <tr>\n",
       "      <th>3</th>\n",
       "      <td>AG</td>\n",
       "      <td>AG04_S188.bam</td>\n",
       "      <td>0</td>\n",
       "      <td>0</td>\n",
       "      <td>1</td>\n",
       "      <td>0</td>\n",
       "    </tr>\n",
       "    <tr>\n",
       "      <th>4</th>\n",
       "      <td>AG</td>\n",
       "      <td>AG05_S241.bam</td>\n",
       "      <td>0</td>\n",
       "      <td>0</td>\n",
       "      <td>2</td>\n",
       "      <td>0</td>\n",
       "    </tr>\n",
       "  </tbody>\n",
       "</table>\n",
       "</div>"
      ],
      "text/plain": [
       "  pop            bam  mom  dad  sex  class1\n",
       "0  AG   AG01_S94.bam    0    0    2       0\n",
       "1  AG  AG02_S231.bam    0    0    2       0\n",
       "2  AG  AG03_S230.bam    0    0    2       0\n",
       "3  AG  AG04_S188.bam    0    0    1       0\n",
       "4  AG  AG05_S241.bam    0    0    2       0"
      ]
     },
     "execution_count": 11,
     "metadata": {},
     "output_type": "execute_result"
    }
   ],
   "source": [
    "class1=pd.read_table(\"InputFiles/class1pumilio.tsv\",\n",
    "                     names=[\"pop\",\"bam\",\"mom\",\"dad\",\"sex\",\"class1\"])\n",
    "class1.head()"
   ]
  },
  {
   "cell_type": "code",
   "execution_count": 12,
   "id": "17406e83",
   "metadata": {},
   "outputs": [],
   "source": [
    "popdf=mypops.groupby(\"pop\",as_index=False).mean().round(3)"
   ]
  },
  {
   "cell_type": "code",
   "execution_count": 13,
   "id": "2e320420",
   "metadata": {},
   "outputs": [],
   "source": [
    "assoc=pd.merge(class1,popdf,on=\"pop\")"
   ]
  },
  {
   "cell_type": "code",
   "execution_count": 14,
   "id": "798a1ce4",
   "metadata": {},
   "outputs": [],
   "source": [
    "assoc.to_csv(\"outputFiles/complete_table.tsv\",sep=\"\\t\",index=False)"
   ]
  },
  {
   "cell_type": "code",
   "execution_count": 15,
   "id": "8affa7ca",
   "metadata": {},
   "outputs": [
    {
     "data": {
      "image/png": "[encoded data removed]",
      "text/plain": [
       "<Figure size 432x288 with 1 Axes>"
      ]
     },
     "metadata": {
      "needs_background": "light"
     },
     "output_type": "display_data"
    }
   ],
   "source": [
    "assoc.boxplot(column=[\"B1\"],by=\"class1\",showmeans=True,\n",
    "                  return_type='dict',patch_artist = True,\n",
    "                  meanprops={\"marker\":\"o\",\"markerfacecolor\":\"white\", \"markeredgecolor\":\"black\"})\n",
    "\n",
    "\n",
    "plt.show()"
   ]
  },
  {
   "cell_type": "code",
   "execution_count": 16,
   "id": "90607f7e",
   "metadata": {},
   "outputs": [],
   "source": [
    "red=assoc[[\"pop\",\"bam\",\"mom\",\"dad\",\"sex\",\"S1R\"]]\n",
    "red.to_csv(\"outputFiles/red_spec.tsv\",sep=\"\\t\",index=False,header=False)\n",
    "\n",
    "green=assoc[[\"pop\",\"bam\",\"mom\",\"dad\",\"sex\",\"S1G\"]]\n",
    "green.to_csv(\"outputFiles/green_spec.tsv\",sep=\"\\t\",index=False,header=False)\n",
    "\n",
    "blue=assoc[[\"pop\",\"bam\",\"mom\",\"dad\",\"sex\",\"S1B\"]]\n",
    "blue.to_csv(\"outputFiles/blue_spec.tsv\",sep=\"\\t\",index=False,header=False)\n",
    "\n",
    "yellow=assoc[[\"pop\",\"bam\",\"mom\",\"dad\",\"sex\",\"S1Y\"]]\n",
    "yellow.to_csv(\"outputFiles/yellow_spec.tsv\",sep=\"\\t\",index=False,header=False)"
   ]
  }
 ],
 "metadata": {
  "kernelspec": {
   "display_name": "Python 3 (ipykernel)",
   "language": "python",
   "name": "python3"
  },
  "language_info": {
   "codemirror_mode": {
    "name": "ipython",
    "version": 3
   },
   "file_extension": ".py",
   "mimetype": "text/x-python",
   "name": "python",
   "nbconvert_exporter": "python",
   "pygments_lexer": "ipython3",
   "version": "3.10.1"
  }
 },
 "nbformat": 4,
 "nbformat_minor": 5
}
