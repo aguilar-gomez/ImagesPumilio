{
 "cells": [
  {
   "cell_type": "code",
   "execution_count": 2,
   "id": "339d0b0b",
   "metadata": {},
   "outputs": [],
   "source": [
    "import pandas as pd\n",
    "import matplotlib.pyplot as plt\n",
    "import warnings\n",
    "from pandas.api.types import CategoricalDtype\n",
    "import numpy as np\n",
    "\n",
    "warnings.filterwarnings('ignore')"
   ]
  },
  {
   "cell_type": "code",
   "execution_count": 7,
   "id": "dedade0c",
   "metadata": {},
   "outputs": [],
   "source": [
    "'''\n",
    "TB_01_D_01_s1\n",
    "Population/morph ID (yes, it corresponds to the index in my diss)\n",
    "Individual ID (generally five per collecting site, more for polymorphic sites)\n",
    "D = Dorsal, V= Ventral\n",
    "01, 02, or 03 = measurement area (three on dorsal side, three on ventral side)\n",
    "s1 or s2 = replicate (no differences between measurement sets)\n",
    "'''\n",
    "\n",
    "spec=pd.read_csv(\"InputFiles/spec_data_lrf4Adam_Dorsal.csv\")"
   ]
  },
  {
   "cell_type": "code",
   "execution_count": 8,
   "id": "68866ffd",
   "metadata": {},
   "outputs": [],
   "source": [
    "#Mean by technical replicates\n",
    "spec[[\"sample\",\"replicate\"]]=spec[\"Sample_ID\"].str.rsplit(\"_\",1,expand=True)\n",
    "replicates=spec.groupby(\"sample\", as_index=False).mean()"
   ]
  },
  {
   "cell_type": "code",
   "execution_count": 9,
   "id": "81dfaead",
   "metadata": {},
   "outputs": [],
   "source": [
    "#Mean per individual\n",
    "replicates[[\"pop\",\"indv\",\"D\",\"measure\"]]=replicates[\"sample\"].str.rsplit(\"_\",3,expand=True)\n",
    "indiv=replicates.groupby([\"pop\",\"indv\"], as_index=False).mean()\n",
    "popmean=indiv.groupby([\"pop\"], as_index=False).mean() "
   ]
  },
  {
   "cell_type": "code",
   "execution_count": 10,
   "id": "d768038c",
   "metadata": {},
   "outputs": [
    {
     "data": {
      "text/html": [
       "<div>\n",
       "<style scoped>\n",
       "    .dataframe tbody tr th:only-of-type {\n",
       "        vertical-align: middle;\n",
       "    }\n",
       "\n",
       "    .dataframe tbody tr th {\n",
       "        vertical-align: top;\n",
       "    }\n",
       "\n",
       "    .dataframe thead th {\n",
       "        text-align: right;\n",
       "    }\n",
       "</style>\n",
       "<table border=\"1\" class=\"dataframe\">\n",
       "  <thead>\n",
       "    <tr style=\"text-align: right;\">\n",
       "      <th></th>\n",
       "      <th>sample</th>\n",
       "      <th>B1</th>\n",
       "      <th>S1U</th>\n",
       "      <th>S1V</th>\n",
       "      <th>S1B</th>\n",
       "      <th>S1G</th>\n",
       "      <th>S1Y</th>\n",
       "      <th>S1R</th>\n",
       "      <th>pop</th>\n",
       "      <th>indv</th>\n",
       "      <th>D</th>\n",
       "      <th>measure</th>\n",
       "    </tr>\n",
       "  </thead>\n",
       "  <tbody>\n",
       "    <tr>\n",
       "      <th>0</th>\n",
       "      <td>CA_02_D_01</td>\n",
       "      <td>750.573577</td>\n",
       "      <td>0.175690</td>\n",
       "      <td>0.189901</td>\n",
       "      <td>0.083387</td>\n",
       "      <td>0.444302</td>\n",
       "      <td>0.315113</td>\n",
       "      <td>0.304146</td>\n",
       "      <td>CA</td>\n",
       "      <td>02</td>\n",
       "      <td>D</td>\n",
       "      <td>01</td>\n",
       "    </tr>\n",
       "    <tr>\n",
       "      <th>1</th>\n",
       "      <td>CA_02_D_02</td>\n",
       "      <td>812.620062</td>\n",
       "      <td>0.177847</td>\n",
       "      <td>0.198455</td>\n",
       "      <td>0.129545</td>\n",
       "      <td>0.415143</td>\n",
       "      <td>0.287966</td>\n",
       "      <td>0.285624</td>\n",
       "      <td>CA</td>\n",
       "      <td>02</td>\n",
       "      <td>D</td>\n",
       "      <td>02</td>\n",
       "    </tr>\n",
       "    <tr>\n",
       "      <th>2</th>\n",
       "      <td>CA_02_D_03</td>\n",
       "      <td>1375.067154</td>\n",
       "      <td>0.184356</td>\n",
       "      <td>0.205476</td>\n",
       "      <td>0.156450</td>\n",
       "      <td>0.389302</td>\n",
       "      <td>0.284085</td>\n",
       "      <td>0.277686</td>\n",
       "      <td>CA</td>\n",
       "      <td>02</td>\n",
       "      <td>D</td>\n",
       "      <td>03</td>\n",
       "    </tr>\n",
       "    <tr>\n",
       "      <th>3</th>\n",
       "      <td>CA_03_D_01</td>\n",
       "      <td>1229.659241</td>\n",
       "      <td>0.130056</td>\n",
       "      <td>0.142567</td>\n",
       "      <td>0.097175</td>\n",
       "      <td>0.467030</td>\n",
       "      <td>0.330686</td>\n",
       "      <td>0.313927</td>\n",
       "      <td>CA</td>\n",
       "      <td>03</td>\n",
       "      <td>D</td>\n",
       "      <td>01</td>\n",
       "    </tr>\n",
       "    <tr>\n",
       "      <th>4</th>\n",
       "      <td>CA_03_D_02</td>\n",
       "      <td>1018.957371</td>\n",
       "      <td>0.142159</td>\n",
       "      <td>0.155983</td>\n",
       "      <td>0.103766</td>\n",
       "      <td>0.449651</td>\n",
       "      <td>0.315087</td>\n",
       "      <td>0.312647</td>\n",
       "      <td>CA</td>\n",
       "      <td>03</td>\n",
       "      <td>D</td>\n",
       "      <td>02</td>\n",
       "    </tr>\n",
       "  </tbody>\n",
       "</table>\n",
       "</div>"
      ],
      "text/plain": [
       "       sample           B1       S1U       S1V       S1B       S1G       S1Y  \\\n",
       "0  CA_02_D_01   750.573577  0.175690  0.189901  0.083387  0.444302  0.315113   \n",
       "1  CA_02_D_02   812.620062  0.177847  0.198455  0.129545  0.415143  0.287966   \n",
       "2  CA_02_D_03  1375.067154  0.184356  0.205476  0.156450  0.389302  0.284085   \n",
       "3  CA_03_D_01  1229.659241  0.130056  0.142567  0.097175  0.467030  0.330686   \n",
       "4  CA_03_D_02  1018.957371  0.142159  0.155983  0.103766  0.449651  0.315087   \n",
       "\n",
       "        S1R pop indv  D measure  \n",
       "0  0.304146  CA   02  D      01  \n",
       "1  0.285624  CA   02  D      02  \n",
       "2  0.277686  CA   02  D      03  \n",
       "3  0.313927  CA   03  D      01  \n",
       "4  0.312647  CA   03  D      02  "
      ]
     },
     "execution_count": 10,
     "metadata": {},
     "output_type": "execute_result"
    }
   ],
   "source": [
    "replicates.head()"
   ]
  },
  {
   "cell_type": "code",
   "execution_count": 11,
   "id": "9c019707",
   "metadata": {},
   "outputs": [
    {
     "data": {
      "image/png": "[encoded data removed]",
      "text/plain": [
       "<Figure size 432x288 with 1 Axes>"
      ]
     },
     "metadata": {
      "needs_background": "light"
     },
     "output_type": "display_data"
    }
   ],
   "source": [
    "'''\n",
    "S1V- violet\n",
    "S1B- blue\n",
    "S1G- green\n",
    "S1Y- yellow\n",
    "S1R- red\n",
    "B1- total brightness\n",
    "S1U- ultra violet excluded\n",
    "\n",
    "\n",
    "CA - Isla Cayo Agua\n",
    "CE, CY - Cementery\n",
    "CR - Costa Rica\n",
    "DB, DI, DR- Dolphin Bay\n",
    "FA - Mainland farm\n",
    "GL - La Gloria\n",
    "HO - Hospital Point, Solarte\n",
    "IC - Colón\n",
    "LL - La Loma\n",
    "LO - Loma Extrella\n",
    "NI - Isla Pastores\n",
    "NP - North Popa\n",
    "NR - Rana Azul\n",
    "OL - Old Point Bastimentos\n",
    "PA - Isla Loma Partida\n",
    "PM - Loma Partida, aguacate\n",
    "PU - Punta Laurel. Popa\n",
    "SC - San Cristobal\n",
    "SI - El silencio, mainland\n",
    "SS - Southeast Solarte\n",
    "TB - Tranquilo Bay\n",
    "'''\n",
    "indiv.boxplot(column=\"S1R\",by=\"pop\")\n",
    "plt.savefig(\"outputFiles/originalpops_red.pdf\")"
   ]
  },
  {
   "cell_type": "code",
   "execution_count": 12,
   "id": "f7282afc",
   "metadata": {},
   "outputs": [],
   "source": [
    "#Selected populations\n",
    "diana_pops=[\"SK\",\"RA\",\"CL\",\"CMR\",\"CMY\",\"DBB\",\"DBI\",\"DBR\",\"HP\",\"PO\",\"SC\",\"TB\",\"PD\"]\n",
    "layla_pops=[\"DR\",\"NR\",\"IC\",\"CE\" , \"CY\",\"DR\" ,\"DI\" ,\"DB\" ,\"HO\",\"PU\",\"SC\",\"TB\",\"NP\"]"
   ]
  },
  {
   "cell_type": "code",
   "execution_count": 13,
   "id": "6524576a",
   "metadata": {},
   "outputs": [],
   "source": [
    "poporder = CategoricalDtype(\n",
    "    [\"SC\",\"DBR\",\"DBI\",\"DBB\",\"SK\",\"RA\",\"PO\",\"CL\",\"CMY\",\"CMR\",\"HP\",\"TB\",\"PD\"], \n",
    "    ordered=True\n",
    ")"
   ]
  },
  {
   "cell_type": "code",
   "execution_count": 14,
   "id": "e3fd8149",
   "metadata": {},
   "outputs": [
    {
     "data": {
      "text/plain": [
       "{'CA',\n",
       " 'CE',\n",
       " 'CR',\n",
       " 'CY',\n",
       " 'DB',\n",
       " 'DI',\n",
       " 'DR',\n",
       " 'FA',\n",
       " 'GL',\n",
       " 'HO',\n",
       " 'IC',\n",
       " 'LL',\n",
       " 'LO',\n",
       " 'NI',\n",
       " 'NP',\n",
       " 'NR',\n",
       " 'OL',\n",
       " 'PA',\n",
       " 'PM',\n",
       " 'PU',\n",
       " 'SC',\n",
       " 'SI',\n",
       " 'SS',\n",
       " 'TB'}"
      ]
     },
     "execution_count": 14,
     "metadata": {},
     "output_type": "execute_result"
    }
   ],
   "source": [
    "set(indiv[\"pop\"])"
   ]
  },
  {
   "cell_type": "code",
   "execution_count": 15,
   "id": "76976b37",
   "metadata": {},
   "outputs": [],
   "source": [
    "dic_popcode = dict(zip(layla_pops,diana_pops))\n",
    "indiv_pop2=indiv.replace({\"pop\": dic_popcode },inplace=False)\n",
    "toadd=indiv_pop2[indiv_pop2[\"pop\"]==\"DBB\"]\n",
    "toadd[\"pop\"]=\"SK\"\n",
    "indiv_pop2=indiv_pop2.append(toadd)\n",
    "indiv_pop2['pop'] = indiv_pop2['pop'].astype(poporder)"
   ]
  },
  {
   "cell_type": "code",
   "execution_count": 16,
   "id": "89010b2a",
   "metadata": {},
   "outputs": [
    {
     "data": {
      "image/png": "[encoded data removed]",
      "text/plain": [
       "<Figure size 1080x1080 with 4 Axes>"
      ]
     },
     "metadata": {
      "needs_background": "light"
     },
     "output_type": "display_data"
    }
   ],
   "source": [
    "#I am almost sure that the DB and DR are flipped, confirmed by Layla\n",
    "mypops=indiv_pop2[indiv_pop2['pop'].isin(diana_pops)]\n",
    "\n",
    "fig, ax_new = plt.subplots(2,2,figsize=(15,15))\n",
    "\n",
    "bp=mypops.boxplot(column=[\"S1R\",\"S1Y\",\"S1G\",\"S1B\"],by=\"pop\",\n",
    "                  ax=ax_new, showmeans=True,\n",
    "                  return_type='dict',patch_artist = True,\n",
    "                  meanprops={\"marker\":\"o\",\"markerfacecolor\":\"black\", \"markeredgecolor\":\"black\"})\n",
    "\n",
    "plt.xticks(rotation = 45)\n",
    "[item.set_color('red') for item in bp[\"S1R\"]['boxes']]\n",
    "[item.set_color('blue') for item in bp[\"S1B\"]['boxes']]\n",
    "[item.set_color('green') for item in bp[\"S1G\"]['boxes']]\n",
    "[item.set_color('gold') for item in bp[\"S1Y\"]['boxes']]\n",
    "\n",
    "[[item.set_color('k') for item in bp[key]['whiskers']] for key in bp.keys()]\n",
    "[[item.set_color('k') for item in bp[key]['caps']] for key in bp.keys()]\n",
    "[[item.set_color('k') for item in bp[key]['medians']] for key in bp.keys()]\n",
    "\n",
    "\n",
    "# Set general font size\n",
    "plt.rcParams['font.size'] = '16'\n",
    "#Rotate ticks\n",
    "for ax in fig.axes:\n",
    "    plt.sca(ax)\n",
    "    plt.xticks(rotation=45)\n",
    "    plt.xlabel(\"\")\n",
    "    ax.grid(False)\n",
    "\n",
    "\n",
    "\n",
    "fig.suptitle('')\n",
    "plt.savefig(\"./outputFiles/spec_perpopv2.png\")\n",
    "plt.show()"
   ]
  },
  {
   "cell_type": "markdown",
   "id": "6fe8331c",
   "metadata": {},
   "source": [
    "## Merge with Adam's Classification"
   ]
  },
  {
   "cell_type": "code",
   "execution_count": 17,
   "id": "afa830b8",
   "metadata": {},
   "outputs": [],
   "source": [
    "class1=pd.read_table(\"InputFiles/class1pumilio.tsv\",\n",
    "                     names=[\"popcode\",\"pop\",\"mom\",\"dad\",\"sex\",\"class1\"])"
   ]
  },
  {
   "cell_type": "code",
   "execution_count": 18,
   "id": "a247f5ec",
   "metadata": {},
   "outputs": [],
   "source": [
    "class1[\"popcode\"].replace(\"AG\",\"SK\",inplace=True)\n",
    "class1[\"popcode\"].replace(\"PP\",\"PO\",inplace=True)\n",
    "class1.loc[class1[\"pop\"].str.contains(\"^(?:PP34|PP35|PP36)\"),\"popcode\"]=\"PD\""
   ]
  },
  {
   "cell_type": "code",
   "execution_count": 19,
   "id": "5a83f554",
   "metadata": {},
   "outputs": [
    {
     "data": {
      "text/plain": [
       "DBI    41\n",
       "TB     35\n",
       "PO     34\n",
       "CMR    33\n",
       "DBB    32\n",
       "DBR    31\n",
       "SK     30\n",
       "CMY    30\n",
       "HP     30\n",
       "SC     26\n",
       "CL     15\n",
       "RA      7\n",
       "PD      3\n",
       "Name: popcode, dtype: int64"
      ]
     },
     "execution_count": 19,
     "metadata": {},
     "output_type": "execute_result"
    }
   ],
   "source": [
    "class1[\"popcode\"].value_counts()"
   ]
  },
  {
   "cell_type": "code",
   "execution_count": 20,
   "id": "5809e025",
   "metadata": {},
   "outputs": [],
   "source": [
    "fam=pd.read_table(\"InputFiles/pumilio.ok.rescaffold2.fam\",sep=\"\\s\",\n",
    "                     names=[\"pop\",\"bam\",\"mom\",\"dad\",\"useless\",\"nothing\"])\n"
   ]
  },
  {
   "cell_type": "code",
   "execution_count": 21,
   "id": "4131ddc1",
   "metadata": {},
   "outputs": [],
   "source": [
    "fam[\"pop\"]=fam[\"pop\"].str.replace(\"\\.r\",\"\")\n",
    "class1[\"pop\"]=class1[\"pop\"].str.replace(\"TB03_S2.bam\",\"PP37_S2.bam\")\n",
    "new=pd.merge(fam,class1,on=[\"pop\",\"mom\",\"dad\"],sort=False,how=\"left\")\n",
    "class1_rescaffold=new[[\"popcode\",\"bam\",\"mom\",\"dad\",\"sex\",\"class1\"]]\n",
    "class1_rescaffold.to_csv(\"outputFiles/class1_rescaffold.tsv\",sep=\"\\t\",index=False,header=False)"
   ]
  },
  {
   "cell_type": "code",
   "execution_count": 22,
   "id": "7dbe821f",
   "metadata": {},
   "outputs": [],
   "source": [
    "class1_rescaffold.rename(columns={'popcode':'pop'},inplace=True)"
   ]
  },
  {
   "cell_type": "code",
   "execution_count": 23,
   "id": "17406e83",
   "metadata": {},
   "outputs": [],
   "source": [
    "popdf=mypops.groupby(\"pop\",as_index=False).mean().round(3)"
   ]
  },
  {
   "cell_type": "code",
   "execution_count": 24,
   "id": "2e320420",
   "metadata": {},
   "outputs": [],
   "source": [
    "assoc=pd.merge(class1_rescaffold,popdf,on=\"pop\")"
   ]
  },
  {
   "cell_type": "code",
   "execution_count": 25,
   "id": "76e16a1e",
   "metadata": {},
   "outputs": [],
   "source": [
    "#Exclude Dolphin bay and Aguacate from Class1\n",
    "assoc.loc[assoc[\"pop\"]==\"SK\",\"class1\"]=-9\n",
    "assoc.loc[assoc[\"pop\"]==\"RA\",\"class1\"]=-9\n",
    "assoc.loc[assoc[\"pop\"]==\"DBB\",\"class1\"]=-9\n",
    "assoc.loc[assoc[\"pop\"]==\"DBI\",\"class1\"]=-9\n",
    "assoc.loc[assoc[\"pop\"]==\"DBR\",\"class1\"]=-9"
   ]
  },
  {
   "cell_type": "code",
   "execution_count": 26,
   "id": "8affa7ca",
   "metadata": {},
   "outputs": [
    {
     "data": {
      "image/png": "[encoded data removed]",
      "text/plain": [
       "<Figure size 432x288 with 1 Axes>"
      ]
     },
     "metadata": {
      "needs_background": "light"
     },
     "output_type": "display_data"
    }
   ],
   "source": [
    "assoc.boxplot(column=[\"B1\"],by=\"class1\",showmeans=True,\n",
    "                  return_type='dict',patch_artist = True,\n",
    "                  meanprops={\"marker\":\"o\",\"markerfacecolor\":\"white\", \"markeredgecolor\":\"black\"})\n",
    "\n",
    "\n",
    "plt.savefig(\"./outputFiles/Class1vsBrightnessv2.png\")"
   ]
  },
  {
   "cell_type": "markdown",
   "id": "82e6a99d",
   "metadata": {},
   "source": [
    "## Merge with Black proportion "
   ]
  },
  {
   "cell_type": "code",
   "execution_count": 27,
   "id": "80da6bf4",
   "metadata": {},
   "outputs": [],
   "source": [
    "bpCLPP=pd.read_table(\"outputFiles/thresholdingClass.tsv\",sep=\"\\s\",\n",
    "                     names=[\"indv\",\"blackproportion\"])\n",
    "bpCM=pd.read_table(\"outputFiles/thresholdingClassCM.tsv\",sep=\"\\s\",\n",
    "                     names=[\"indv\",\"blackproportion\"])\n",
    "bpSCTB=pd.read_table(\"outputFiles/thresholdingClassSCTB.tsv\",sep=\"\\s\",\n",
    "                     names=[\"indv\",\"blackproportion\"])\n",
    "\n",
    "bpHP=pd.read_table(\"outputFiles/thresholdingClassHP.tsv\",sep=\"\\s\",\n",
    "                     names=[\"indv\",\"blackproportion\"])"
   ]
  },
  {
   "cell_type": "code",
   "execution_count": 28,
   "id": "e0f7278c",
   "metadata": {},
   "outputs": [
    {
     "data": {
      "text/html": [
       "<div>\n",
       "<style scoped>\n",
       "    .dataframe tbody tr th:only-of-type {\n",
       "        vertical-align: middle;\n",
       "    }\n",
       "\n",
       "    .dataframe tbody tr th {\n",
       "        vertical-align: top;\n",
       "    }\n",
       "\n",
       "    .dataframe thead th {\n",
       "        text-align: right;\n",
       "    }\n",
       "</style>\n",
       "<table border=\"1\" class=\"dataframe\">\n",
       "  <thead>\n",
       "    <tr style=\"text-align: right;\">\n",
       "      <th></th>\n",
       "      <th>indv</th>\n",
       "      <th>blackproportion</th>\n",
       "    </tr>\n",
       "  </thead>\n",
       "  <tbody>\n",
       "    <tr>\n",
       "      <th>0</th>\n",
       "      <td>CL03</td>\n",
       "      <td>0.404244</td>\n",
       "    </tr>\n",
       "    <tr>\n",
       "      <th>1</th>\n",
       "      <td>CL05</td>\n",
       "      <td>0.105165</td>\n",
       "    </tr>\n",
       "    <tr>\n",
       "      <th>2</th>\n",
       "      <td>CL14</td>\n",
       "      <td>0.528407</td>\n",
       "    </tr>\n",
       "    <tr>\n",
       "      <th>3</th>\n",
       "      <td>CL15</td>\n",
       "      <td>0.476310</td>\n",
       "    </tr>\n",
       "    <tr>\n",
       "      <th>4</th>\n",
       "      <td>CL16</td>\n",
       "      <td>0.335112</td>\n",
       "    </tr>\n",
       "  </tbody>\n",
       "</table>\n",
       "</div>"
      ],
      "text/plain": [
       "   indv  blackproportion\n",
       "0  CL03         0.404244\n",
       "1  CL05         0.105165\n",
       "2  CL14         0.528407\n",
       "3  CL15         0.476310\n",
       "4  CL16         0.335112"
      ]
     },
     "execution_count": 28,
     "metadata": {},
     "output_type": "execute_result"
    }
   ],
   "source": [
    "frames = [bpCLPP, bpCM, bpSCTB,bpHP]\n",
    "\n",
    "bpAll = pd.concat(frames)\n",
    "bpAll.head()"
   ]
  },
  {
   "cell_type": "code",
   "execution_count": 29,
   "id": "183d1be8",
   "metadata": {},
   "outputs": [
    {
     "data": {
      "text/html": [
       "<div>\n",
       "<style scoped>\n",
       "    .dataframe tbody tr th:only-of-type {\n",
       "        vertical-align: middle;\n",
       "    }\n",
       "\n",
       "    .dataframe tbody tr th {\n",
       "        vertical-align: top;\n",
       "    }\n",
       "\n",
       "    .dataframe thead th {\n",
       "        text-align: right;\n",
       "    }\n",
       "</style>\n",
       "<table border=\"1\" class=\"dataframe\">\n",
       "  <thead>\n",
       "    <tr style=\"text-align: right;\">\n",
       "      <th></th>\n",
       "      <th>pop</th>\n",
       "      <th>bam</th>\n",
       "      <th>mom</th>\n",
       "      <th>dad</th>\n",
       "      <th>sex</th>\n",
       "      <th>class1</th>\n",
       "      <th>B1</th>\n",
       "      <th>S1U</th>\n",
       "      <th>S1V</th>\n",
       "      <th>S1B</th>\n",
       "      <th>S1G</th>\n",
       "      <th>S1Y</th>\n",
       "      <th>S1R</th>\n",
       "      <th>indv</th>\n",
       "      <th>trash</th>\n",
       "    </tr>\n",
       "  </thead>\n",
       "  <tbody>\n",
       "    <tr>\n",
       "      <th>0</th>\n",
       "      <td>SK</td>\n",
       "      <td>AG01_S94.r.bam</td>\n",
       "      <td>0</td>\n",
       "      <td>0</td>\n",
       "      <td>2</td>\n",
       "      <td>-9</td>\n",
       "      <td>1048.452</td>\n",
       "      <td>0.166</td>\n",
       "      <td>0.2</td>\n",
       "      <td>0.283</td>\n",
       "      <td>0.257</td>\n",
       "      <td>0.21</td>\n",
       "      <td>0.302</td>\n",
       "      <td>AG01</td>\n",
       "      <td>S94.r.bam</td>\n",
       "    </tr>\n",
       "    <tr>\n",
       "      <th>1</th>\n",
       "      <td>SK</td>\n",
       "      <td>AG02_S231.r.bam</td>\n",
       "      <td>0</td>\n",
       "      <td>0</td>\n",
       "      <td>2</td>\n",
       "      <td>-9</td>\n",
       "      <td>1048.452</td>\n",
       "      <td>0.166</td>\n",
       "      <td>0.2</td>\n",
       "      <td>0.283</td>\n",
       "      <td>0.257</td>\n",
       "      <td>0.21</td>\n",
       "      <td>0.302</td>\n",
       "      <td>AG02</td>\n",
       "      <td>S231.r.bam</td>\n",
       "    </tr>\n",
       "    <tr>\n",
       "      <th>2</th>\n",
       "      <td>SK</td>\n",
       "      <td>AG03_S230.r.bam</td>\n",
       "      <td>0</td>\n",
       "      <td>0</td>\n",
       "      <td>2</td>\n",
       "      <td>-9</td>\n",
       "      <td>1048.452</td>\n",
       "      <td>0.166</td>\n",
       "      <td>0.2</td>\n",
       "      <td>0.283</td>\n",
       "      <td>0.257</td>\n",
       "      <td>0.21</td>\n",
       "      <td>0.302</td>\n",
       "      <td>AG03</td>\n",
       "      <td>S230.r.bam</td>\n",
       "    </tr>\n",
       "    <tr>\n",
       "      <th>3</th>\n",
       "      <td>SK</td>\n",
       "      <td>AG04_S188.r.bam</td>\n",
       "      <td>0</td>\n",
       "      <td>0</td>\n",
       "      <td>1</td>\n",
       "      <td>-9</td>\n",
       "      <td>1048.452</td>\n",
       "      <td>0.166</td>\n",
       "      <td>0.2</td>\n",
       "      <td>0.283</td>\n",
       "      <td>0.257</td>\n",
       "      <td>0.21</td>\n",
       "      <td>0.302</td>\n",
       "      <td>AG04</td>\n",
       "      <td>S188.r.bam</td>\n",
       "    </tr>\n",
       "    <tr>\n",
       "      <th>4</th>\n",
       "      <td>SK</td>\n",
       "      <td>AG05_S241.r.bam</td>\n",
       "      <td>0</td>\n",
       "      <td>0</td>\n",
       "      <td>2</td>\n",
       "      <td>-9</td>\n",
       "      <td>1048.452</td>\n",
       "      <td>0.166</td>\n",
       "      <td>0.2</td>\n",
       "      <td>0.283</td>\n",
       "      <td>0.257</td>\n",
       "      <td>0.21</td>\n",
       "      <td>0.302</td>\n",
       "      <td>AG05</td>\n",
       "      <td>S241.r.bam</td>\n",
       "    </tr>\n",
       "  </tbody>\n",
       "</table>\n",
       "</div>"
      ],
      "text/plain": [
       "  pop              bam  mom  dad  sex  class1        B1    S1U  S1V    S1B  \\\n",
       "0  SK   AG01_S94.r.bam    0    0    2      -9  1048.452  0.166  0.2  0.283   \n",
       "1  SK  AG02_S231.r.bam    0    0    2      -9  1048.452  0.166  0.2  0.283   \n",
       "2  SK  AG03_S230.r.bam    0    0    2      -9  1048.452  0.166  0.2  0.283   \n",
       "3  SK  AG04_S188.r.bam    0    0    1      -9  1048.452  0.166  0.2  0.283   \n",
       "4  SK  AG05_S241.r.bam    0    0    2      -9  1048.452  0.166  0.2  0.283   \n",
       "\n",
       "     S1G   S1Y    S1R  indv       trash  \n",
       "0  0.257  0.21  0.302  AG01   S94.r.bam  \n",
       "1  0.257  0.21  0.302  AG02  S231.r.bam  \n",
       "2  0.257  0.21  0.302  AG03  S230.r.bam  \n",
       "3  0.257  0.21  0.302  AG04  S188.r.bam  \n",
       "4  0.257  0.21  0.302  AG05  S241.r.bam  "
      ]
     },
     "execution_count": 29,
     "metadata": {},
     "output_type": "execute_result"
    }
   ],
   "source": [
    "assoc[[\"indv\",\"trash\"]]=assoc[\"bam\"].str.rsplit(\"_\",1,expand=True)\n",
    "assoc.head()"
   ]
  },
  {
   "cell_type": "code",
   "execution_count": 30,
   "id": "07aaa11c",
   "metadata": {},
   "outputs": [
    {
     "data": {
      "text/html": [
       "<div>\n",
       "<style scoped>\n",
       "    .dataframe tbody tr th:only-of-type {\n",
       "        vertical-align: middle;\n",
       "    }\n",
       "\n",
       "    .dataframe tbody tr th {\n",
       "        vertical-align: top;\n",
       "    }\n",
       "\n",
       "    .dataframe thead th {\n",
       "        text-align: right;\n",
       "    }\n",
       "</style>\n",
       "<table border=\"1\" class=\"dataframe\">\n",
       "  <thead>\n",
       "    <tr style=\"text-align: right;\">\n",
       "      <th></th>\n",
       "      <th>pop</th>\n",
       "      <th>bam</th>\n",
       "      <th>mom</th>\n",
       "      <th>dad</th>\n",
       "      <th>sex</th>\n",
       "      <th>class1</th>\n",
       "      <th>B1</th>\n",
       "      <th>S1U</th>\n",
       "      <th>S1V</th>\n",
       "      <th>S1B</th>\n",
       "      <th>S1G</th>\n",
       "      <th>S1Y</th>\n",
       "      <th>S1R</th>\n",
       "      <th>indv</th>\n",
       "      <th>trash</th>\n",
       "      <th>blackproportion</th>\n",
       "    </tr>\n",
       "  </thead>\n",
       "  <tbody>\n",
       "    <tr>\n",
       "      <th>0</th>\n",
       "      <td>SK</td>\n",
       "      <td>AG01_S94.r.bam</td>\n",
       "      <td>0</td>\n",
       "      <td>0</td>\n",
       "      <td>2</td>\n",
       "      <td>-9</td>\n",
       "      <td>1048.452</td>\n",
       "      <td>0.166</td>\n",
       "      <td>0.2</td>\n",
       "      <td>0.283</td>\n",
       "      <td>0.257</td>\n",
       "      <td>0.21</td>\n",
       "      <td>0.302</td>\n",
       "      <td>AG01</td>\n",
       "      <td>S94.r.bam</td>\n",
       "      <td>NaN</td>\n",
       "    </tr>\n",
       "    <tr>\n",
       "      <th>1</th>\n",
       "      <td>SK</td>\n",
       "      <td>AG02_S231.r.bam</td>\n",
       "      <td>0</td>\n",
       "      <td>0</td>\n",
       "      <td>2</td>\n",
       "      <td>-9</td>\n",
       "      <td>1048.452</td>\n",
       "      <td>0.166</td>\n",
       "      <td>0.2</td>\n",
       "      <td>0.283</td>\n",
       "      <td>0.257</td>\n",
       "      <td>0.21</td>\n",
       "      <td>0.302</td>\n",
       "      <td>AG02</td>\n",
       "      <td>S231.r.bam</td>\n",
       "      <td>NaN</td>\n",
       "    </tr>\n",
       "    <tr>\n",
       "      <th>2</th>\n",
       "      <td>SK</td>\n",
       "      <td>AG03_S230.r.bam</td>\n",
       "      <td>0</td>\n",
       "      <td>0</td>\n",
       "      <td>2</td>\n",
       "      <td>-9</td>\n",
       "      <td>1048.452</td>\n",
       "      <td>0.166</td>\n",
       "      <td>0.2</td>\n",
       "      <td>0.283</td>\n",
       "      <td>0.257</td>\n",
       "      <td>0.21</td>\n",
       "      <td>0.302</td>\n",
       "      <td>AG03</td>\n",
       "      <td>S230.r.bam</td>\n",
       "      <td>NaN</td>\n",
       "    </tr>\n",
       "    <tr>\n",
       "      <th>3</th>\n",
       "      <td>SK</td>\n",
       "      <td>AG04_S188.r.bam</td>\n",
       "      <td>0</td>\n",
       "      <td>0</td>\n",
       "      <td>1</td>\n",
       "      <td>-9</td>\n",
       "      <td>1048.452</td>\n",
       "      <td>0.166</td>\n",
       "      <td>0.2</td>\n",
       "      <td>0.283</td>\n",
       "      <td>0.257</td>\n",
       "      <td>0.21</td>\n",
       "      <td>0.302</td>\n",
       "      <td>AG04</td>\n",
       "      <td>S188.r.bam</td>\n",
       "      <td>NaN</td>\n",
       "    </tr>\n",
       "    <tr>\n",
       "      <th>4</th>\n",
       "      <td>SK</td>\n",
       "      <td>AG05_S241.r.bam</td>\n",
       "      <td>0</td>\n",
       "      <td>0</td>\n",
       "      <td>2</td>\n",
       "      <td>-9</td>\n",
       "      <td>1048.452</td>\n",
       "      <td>0.166</td>\n",
       "      <td>0.2</td>\n",
       "      <td>0.283</td>\n",
       "      <td>0.257</td>\n",
       "      <td>0.21</td>\n",
       "      <td>0.302</td>\n",
       "      <td>AG05</td>\n",
       "      <td>S241.r.bam</td>\n",
       "      <td>NaN</td>\n",
       "    </tr>\n",
       "  </tbody>\n",
       "</table>\n",
       "</div>"
      ],
      "text/plain": [
       "  pop              bam  mom  dad  sex  class1        B1    S1U  S1V    S1B  \\\n",
       "0  SK   AG01_S94.r.bam    0    0    2      -9  1048.452  0.166  0.2  0.283   \n",
       "1  SK  AG02_S231.r.bam    0    0    2      -9  1048.452  0.166  0.2  0.283   \n",
       "2  SK  AG03_S230.r.bam    0    0    2      -9  1048.452  0.166  0.2  0.283   \n",
       "3  SK  AG04_S188.r.bam    0    0    1      -9  1048.452  0.166  0.2  0.283   \n",
       "4  SK  AG05_S241.r.bam    0    0    2      -9  1048.452  0.166  0.2  0.283   \n",
       "\n",
       "     S1G   S1Y    S1R  indv       trash  blackproportion  \n",
       "0  0.257  0.21  0.302  AG01   S94.r.bam              NaN  \n",
       "1  0.257  0.21  0.302  AG02  S231.r.bam              NaN  \n",
       "2  0.257  0.21  0.302  AG03  S230.r.bam              NaN  \n",
       "3  0.257  0.21  0.302  AG04  S188.r.bam              NaN  \n",
       "4  0.257  0.21  0.302  AG05  S241.r.bam              NaN  "
      ]
     },
     "execution_count": 30,
     "metadata": {},
     "output_type": "execute_result"
    }
   ],
   "source": [
    "assocbp=pd.merge(assoc,bpAll,on=\"indv\",how=\"left\")\n",
    "assocbp.head()"
   ]
  },
  {
   "cell_type": "code",
   "execution_count": 31,
   "id": "ef511651",
   "metadata": {},
   "outputs": [
    {
     "data": {
      "text/html": [
       "<div>\n",
       "<style scoped>\n",
       "    .dataframe tbody tr th:only-of-type {\n",
       "        vertical-align: middle;\n",
       "    }\n",
       "\n",
       "    .dataframe tbody tr th {\n",
       "        vertical-align: top;\n",
       "    }\n",
       "\n",
       "    .dataframe thead th {\n",
       "        text-align: right;\n",
       "    }\n",
       "</style>\n",
       "<table border=\"1\" class=\"dataframe\">\n",
       "  <thead>\n",
       "    <tr style=\"text-align: right;\">\n",
       "      <th></th>\n",
       "      <th>pop</th>\n",
       "      <th>bam</th>\n",
       "      <th>mom</th>\n",
       "      <th>dad</th>\n",
       "      <th>sex</th>\n",
       "      <th>class1</th>\n",
       "      <th>B1</th>\n",
       "      <th>S1U</th>\n",
       "      <th>S1V</th>\n",
       "      <th>S1B</th>\n",
       "      <th>S1G</th>\n",
       "      <th>S1Y</th>\n",
       "      <th>S1R</th>\n",
       "      <th>indv</th>\n",
       "      <th>trash</th>\n",
       "      <th>blackproportion</th>\n",
       "    </tr>\n",
       "  </thead>\n",
       "  <tbody>\n",
       "    <tr>\n",
       "      <th>283</th>\n",
       "      <td>PD</td>\n",
       "      <td>PP34_S265.r.bam</td>\n",
       "      <td>0</td>\n",
       "      <td>0</td>\n",
       "      <td>2</td>\n",
       "      <td>-9</td>\n",
       "      <td>998.651</td>\n",
       "      <td>0.122</td>\n",
       "      <td>0.135</td>\n",
       "      <td>0.113</td>\n",
       "      <td>0.4</td>\n",
       "      <td>0.335</td>\n",
       "      <td>0.372</td>\n",
       "      <td>PP34</td>\n",
       "      <td>S265.r.bam</td>\n",
       "      <td>NaN</td>\n",
       "    </tr>\n",
       "    <tr>\n",
       "      <th>284</th>\n",
       "      <td>PD</td>\n",
       "      <td>PP35_S269.r.bam</td>\n",
       "      <td>0</td>\n",
       "      <td>0</td>\n",
       "      <td>2</td>\n",
       "      <td>0</td>\n",
       "      <td>998.651</td>\n",
       "      <td>0.122</td>\n",
       "      <td>0.135</td>\n",
       "      <td>0.113</td>\n",
       "      <td>0.4</td>\n",
       "      <td>0.335</td>\n",
       "      <td>0.372</td>\n",
       "      <td>PP35</td>\n",
       "      <td>S269.r.bam</td>\n",
       "      <td>NaN</td>\n",
       "    </tr>\n",
       "    <tr>\n",
       "      <th>285</th>\n",
       "      <td>PD</td>\n",
       "      <td>PP36_S254.r.bam</td>\n",
       "      <td>0</td>\n",
       "      <td>0</td>\n",
       "      <td>1</td>\n",
       "      <td>0</td>\n",
       "      <td>998.651</td>\n",
       "      <td>0.122</td>\n",
       "      <td>0.135</td>\n",
       "      <td>0.113</td>\n",
       "      <td>0.4</td>\n",
       "      <td>0.335</td>\n",
       "      <td>0.372</td>\n",
       "      <td>PP36</td>\n",
       "      <td>S254.r.bam</td>\n",
       "      <td>NaN</td>\n",
       "    </tr>\n",
       "  </tbody>\n",
       "</table>\n",
       "</div>"
      ],
      "text/plain": [
       "    pop              bam  mom  dad  sex  class1       B1    S1U    S1V    S1B  \\\n",
       "283  PD  PP34_S265.r.bam    0    0    2      -9  998.651  0.122  0.135  0.113   \n",
       "284  PD  PP35_S269.r.bam    0    0    2       0  998.651  0.122  0.135  0.113   \n",
       "285  PD  PP36_S254.r.bam    0    0    1       0  998.651  0.122  0.135  0.113   \n",
       "\n",
       "     S1G    S1Y    S1R  indv       trash  blackproportion  \n",
       "283  0.4  0.335  0.372  PP34  S265.r.bam              NaN  \n",
       "284  0.4  0.335  0.372  PP35  S269.r.bam              NaN  \n",
       "285  0.4  0.335  0.372  PP36  S254.r.bam              NaN  "
      ]
     },
     "execution_count": 31,
     "metadata": {},
     "output_type": "execute_result"
    }
   ],
   "source": [
    "assocbp[assocbp[\"pop\"]==\"PD\"]"
   ]
  },
  {
   "cell_type": "code",
   "execution_count": 32,
   "id": "80418ce6",
   "metadata": {},
   "outputs": [],
   "source": [
    "subset=assocbp[assocbp[\"blackproportion\"].notna()]"
   ]
  },
  {
   "cell_type": "code",
   "execution_count": 56,
   "id": "2d648f99",
   "metadata": {},
   "outputs": [
    {
     "data": {
      "image/png": "[encoded data removed]",
      "text/plain": [
       "<Figure size 432x576 with 1 Axes>"
      ]
     },
     "metadata": {
      "needs_background": "light"
     },
     "output_type": "display_data"
    }
   ],
   "source": [
    "plt.rcParams['font.family'] = \"Avenir\"\n",
    "plt.rcParams[\"figure.figsize\"] = [6,8]\n",
    "subset.boxplot(column=[\"blackproportion\"],by=\"pop\",showmeans=True,\n",
    "                  return_type='dict',patch_artist = True,color=\"black\",\n",
    "                  meanprops={\"marker\":\"o\",\"markerfacecolor\":\"white\", \"markeredgecolor\":\"black\"},\n",
    "              grid=False,vert=False)\n",
    "plt.xlabel(\"Black Proportion (BP)\")\n",
    "plt.suptitle('')\n",
    "plt.title('')\n",
    "plt.savefig(\"./outputFiles/BlackproportioPerPopv2.png\",dpi=1000)"
   ]
  },
  {
   "cell_type": "code",
   "execution_count": 125,
   "id": "66a8de59",
   "metadata": {},
   "outputs": [
    {
     "data": {
      "text/plain": [
       "blackproportion    {'whiskers': [Line2D(_child1), Line2D(_child2)...\n",
       "dtype: object"
      ]
     },
     "execution_count": 125,
     "metadata": {},
     "output_type": "execute_result"
    },
    {
     "data": {
      "image/png": "[encoded data removed]",
      "text/plain": [
       "<Figure size 432x288 with 1 Axes>"
      ]
     },
     "metadata": {
      "needs_background": "light"
     },
     "output_type": "display_data"
    }
   ],
   "source": [
    "assocbp.boxplot(column=[\"blackproportion\"],by=\"class1\",showmeans=True,\n",
    "                  return_type='dict',patch_artist = True,\n",
    "                  meanprops={\"marker\":\"o\",\"markerfacecolor\":\"white\", \"markeredgecolor\":\"black\"})\n",
    "\n",
    "\n",
    "#plt.savefig(\"./outputFiles/Class1vsBlackproportion.png\")"
   ]
  },
  {
   "cell_type": "markdown",
   "id": "fd39f4cf",
   "metadata": {},
   "source": [
    "## Write files"
   ]
  },
  {
   "cell_type": "code",
   "execution_count": 126,
   "id": "cc435ec0",
   "metadata": {},
   "outputs": [],
   "source": [
    "assoblack=assocbp[[\"pop\",\"bam\",\"mom\",\"dad\",\"sex\",\"class1\",\"B1\",\\\n",
    "                   \"S1U\",\"S1V\",\"S1B\",\"S1G\",\"S1Y\",\"S1R\",\"blackproportion\"]]\n",
    "assoblack.to_csv(\"outputFiles/blackprop.tsv\",sep=\"\\t\",index=False,na_rep=-9)"
   ]
  },
  {
   "cell_type": "code",
   "execution_count": 127,
   "id": "798a1ce4",
   "metadata": {},
   "outputs": [],
   "source": [
    "assoc.to_csv(\"outputFiles/complete_table.tsv\",sep=\"\\t\",index=False)"
   ]
  },
  {
   "cell_type": "code",
   "execution_count": 128,
   "id": "90607f7e",
   "metadata": {},
   "outputs": [],
   "source": [
    "red=assoc[[\"pop\",\"bam\",\"mom\",\"dad\",\"sex\",\"S1R\"]]\n",
    "red.to_csv(\"outputFiles/red_spec.tsv\",sep=\"\\t\",index=False,header=False)\n",
    "\n",
    "green=assoc[[\"pop\",\"bam\",\"mom\",\"dad\",\"sex\",\"S1G\"]]\n",
    "green.to_csv(\"outputFiles/green_spec.tsv\",sep=\"\\t\",index=False,header=False)\n",
    "\n",
    "blue=assoc[[\"pop\",\"bam\",\"mom\",\"dad\",\"sex\",\"S1B\"]]\n",
    "blue.to_csv(\"outputFiles/blue_spec.tsv\",sep=\"\\t\",index=False,header=False)\n",
    "\n",
    "yellow=assoc[[\"pop\",\"bam\",\"mom\",\"dad\",\"sex\",\"S1Y\"]]\n",
    "yellow.to_csv(\"outputFiles/yellow_spec.tsv\",sep=\"\\t\",index=False,header=False)"
   ]
  },
  {
   "cell_type": "code",
   "execution_count": null,
   "id": "6329f45b",
   "metadata": {},
   "outputs": [],
   "source": []
  }
 ],
 "metadata": {
  "kernelspec": {
   "display_name": "Python 3 (ipykernel)",
   "language": "python",
   "name": "python3"
  },
  "language_info": {
   "codemirror_mode": {
    "name": "ipython",
    "version": 3
   },
   "file_extension": ".py",
   "mimetype": "text/x-python",
   "name": "python",
   "nbconvert_exporter": "python",
   "pygments_lexer": "ipython3",
   "version": "3.10.1"
  }
 },
 "nbformat": 4,
 "nbformat_minor": 5
}
